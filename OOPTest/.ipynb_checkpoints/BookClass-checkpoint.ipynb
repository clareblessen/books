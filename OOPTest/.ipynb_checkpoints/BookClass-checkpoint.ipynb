{
 "cells": [
  {
   "cell_type": "code",
   "execution_count": 168,
   "metadata": {},
   "outputs": [],
   "source": [
    "class Book:\n",
    "\n",
    "    # Initialize Book object\n",
    "    def __init__(self, title, author, pg, lang, year, read = 0, current = 0):\n",
    "        self.title = title\n",
    "        self.author = author\n",
    "        self.authorFirst = author.split(\" \")[0]\n",
    "        self.authorLast = author.split(\" \")[1]\n",
    "        self.pg = pg # page count\n",
    "        self.lang = lang # language(s)\n",
    "        self.year = year # publication year\n",
    "        self.read = read # number of times read\n",
    "        self.current = current\n",
    "        self.rating = None\n",
    "    \n",
    "    # return title, year, and author\n",
    "    def getBasicInfo(self):\n",
    "        return f\"{self.title} ({self.year}) // {self.author}\"\n",
    "    \n",
    "    # return detailed description of book\n",
    "    def getDescription(self):\n",
    "        return f\"{self.title} is a {self.pg} page book by {self.author}, published in {self.year}.\"\n",
    "    \n",
    "    # print detailed description of book\n",
    "    def describe(self):\n",
    "        print(self.getDescription())\n",
    "    \n",
    "    # have you read the book?\n",
    "    def hasRead(self):\n",
    "        if self.read:\n",
    "            print(f\"You have read {self.title} {self.read} times.\")\n",
    "        else:\n",
    "            print(\"You have NOT read \" + self.title + \". Get reading!\")\n",
    "    \n",
    "    # set this book to currently reading\n",
    "    def setCurrent(self):\n",
    "        if self.current:\n",
    "            print(f\"I already knew you were reading {self.title}. Keep it up!\")\n",
    "        else:\n",
    "            self.current = 1\n",
    "            print(f\"Noted: You are currently reading {self.title}.\")\n",
    "    \n",
    "    # tell us you have finished your book!\n",
    "    def finReading(self):\n",
    "        self.read += 1 # add to read count\n",
    "        self.current = 0\n",
    "        print(f\"Congratulations on finishing {self.title}. You have read this book {self.read} time(s).\")\n",
    "    \n",
    "    # get rating\n",
    "    def getRating(self, rating):\n",
    "        if self.rating is None:\n",
    "            print(\"You have not rated this book yet!\")\n",
    "        return self.rating\n",
    "    \n",
    "    # set rating for book\n",
    "    def setRating(self, rating):\n",
    "        if (rating > 5) or (rating < 1):\n",
    "            print(\"We are rating books on a 5-point system. Please enter a number between 1 and 5, inclusive.\")\n",
    "        else:\n",
    "            self.rating = rating\n",
    "            print(f\"You rated {self.title} {self.rating} stars.\")\n",
    "            \n",
    "    # get languages for this book \n",
    "    def getLangs(self):\n",
    "        langCount = len(self.lang)\n",
    "        print(f\"{self.title} has been published in {langCount} language(s): \" + \",\".join(self.lang))"
   ]
  },
  {
   "cell_type": "code",
   "execution_count": 185,
   "metadata": {},
   "outputs": [],
   "source": [
    "class Shelf:\n",
    "    # Intialize Shelf object\n",
    "    def __init__(self, maxSize, owner):\n",
    "        self.maxSize = maxSize\n",
    "        self.num_books = 0\n",
    "        self.books = []\n",
    "        self.owner = owner\n",
    "    \n",
    "    # Add book to bookshelf\n",
    "    def addBook(self, book):\n",
    "        if self.num_books < self.maxSize:\n",
    "            self.books.append(book)\n",
    "            self.num_books += 1\n",
    "            if (self.num_books == self.maxSize):\n",
    "                print(\"You just filled up your bookshelf!\")\n",
    "        else:\n",
    "            print(\"Sorry, no room on this bookshelf.\")\n",
    "    \n",
    "    # get all titles on bookshelf\n",
    "    # TO DO: alphabetize\n",
    "    def getTitles(self):\n",
    "        titles = []\n",
    "        for book in self.books:\n",
    "            # ideally test whether in Book class\n",
    "            titles.append(book.title)\n",
    "        return titles\n",
    "    \n",
    "    # get all authors on bookshelf\n",
    "    # TO DO: find unique authors and alphabetize\n",
    "    def getAuthors(self):\n",
    "        return list(map(lambda book: book.author, self.books))\n",
    "    \n",
    "    # describe bookshelf\n",
    "    def describe(self):\n",
    "        print(f\"This is {self.owner}'s {self.maxSize}-book capacity bookshelf. It has {self.num_books} books:\")\n",
    "        for book in self.books:\n",
    "            # print(\"  - \", book.getBasicInfo())\n",
    "            print(\"  - \", book.getDescription())"
   ]
  },
  {
   "cell_type": "code",
   "execution_count": 186,
   "metadata": {},
   "outputs": [],
   "source": [
    "book_1 = Book(\"Severance\", \"Ling Ma\", 291, [\"English\"], 2018)\n",
    "book_2 = Book(\"Hunger: A Memoir of (My) Body\", \"Roxane Gay\", 306, [\"English\"], 2017)\n",
    "book_3 = Book(\"The Heartbeat of Wounded Knee: Native America from 1890 to the Present\", \n",
    "              \"David Treuer\", 526, [\"English\"], 2019)\n",
    "book_4 = Book(\"Asian American Dreams: The Emergence of an American People\", \"Helen Zia\", 368, [\"English\"], 2001)\n",
    "book_5 = Book(\"Stories of Your Life and Others\", \"Ted Chiang\", 281, [\"English\"], 2010)"
   ]
  },
  {
   "cell_type": "code",
   "execution_count": 187,
   "metadata": {},
   "outputs": [
    {
     "name": "stdout",
     "output_type": "stream",
     "text": [
      "You just filled up your bookshelf!\n",
      "This is Becca's 5-book capacity bookshelf. It has 5 books:\n",
      "  -  Severance is a 291 page book by Ling Ma, published in 2018.\n",
      "  -  Hunger: A Memoir of (My) Body is a 306 page book by Roxane Gay, published in 2017.\n",
      "  -  The Heartbeat of Wounded Knee: Native America from 1890 to the Present is a 526 page book by David Treuer, published in 2019.\n",
      "  -  Asian American Dreams: The Emergence of an American People is a 368 page book by Helen Zia, published in 2001.\n",
      "  -  Stories of Your Life and Others is a 281 page book by Ted Chiang, published in 2010.\n"
     ]
    }
   ],
   "source": [
    "shelf_1 = Shelf(5, 'Becca')\n",
    "shelf_1.addBook(book_1)\n",
    "shelf_1.addBook(book_2)\n",
    "shelf_1.addBook(book_3)\n",
    "shelf_1.addBook(book_4)\n",
    "shelf_1.addBook(book_5)\n",
    "shelf_1.describe()"
   ]
  },
  {
   "cell_type": "code",
   "execution_count": 188,
   "metadata": {},
   "outputs": [
    {
     "name": "stdout",
     "output_type": "stream",
     "text": [
      "Severance is a 291 page book by Ling Ma, published in 2018.\n",
      "You have NOT read Severance. Get reading!\n",
      "You have NOT read Hunger: A Memoir of (My) Body. Get reading!\n",
      "Noted: You are currently reading Severance.\n",
      "I already knew you were reading Severance. Keep it up!\n"
     ]
    }
   ],
   "source": [
    "# testing Book functions\n",
    "book_1.describe()\n",
    "book_1.hasRead()\n",
    "book_2.hasRead()\n",
    "book_1.setCurrent()\n",
    "book_1.setCurrent()"
   ]
  },
  {
   "cell_type": "code",
   "execution_count": 189,
   "metadata": {},
   "outputs": [
    {
     "name": "stdout",
     "output_type": "stream",
     "text": [
      "Severance has been published in 1 language(s): English\n"
     ]
    }
   ],
   "source": [
    "book_1.getLangs()"
   ]
  },
  {
   "cell_type": "code",
   "execution_count": 190,
   "metadata": {},
   "outputs": [
    {
     "data": {
      "text/plain": [
       "['Severance',\n",
       " 'Hunger: A Memoir of (My) Body',\n",
       " 'The Heartbeat of Wounded Knee: Native America from 1890 to the Present',\n",
       " 'Asian American Dreams: The Emergence of an American People',\n",
       " 'Stories of Your Life and Others']"
      ]
     },
     "execution_count": 190,
     "metadata": {},
     "output_type": "execute_result"
    }
   ],
   "source": [
    "shelf_1.getTitles()"
   ]
  },
  {
   "cell_type": "code",
   "execution_count": 191,
   "metadata": {},
   "outputs": [
    {
     "data": {
      "text/plain": [
       "['Ling Ma', 'Roxane Gay', 'David Treuer', 'Helen Zia', 'Ted Chiang']"
      ]
     },
     "execution_count": 191,
     "metadata": {},
     "output_type": "execute_result"
    }
   ],
   "source": [
    "shelf_1.getAuthors()"
   ]
  },
  {
   "cell_type": "code",
   "execution_count": null,
   "metadata": {},
   "outputs": [],
   "source": []
  }
 ],
 "metadata": {
  "kernelspec": {
   "display_name": "Python 3",
   "language": "python",
   "name": "python3"
  },
  "language_info": {
   "codemirror_mode": {
    "name": "ipython",
    "version": 3
   },
   "file_extension": ".py",
   "mimetype": "text/x-python",
   "name": "python",
   "nbconvert_exporter": "python",
   "pygments_lexer": "ipython3",
   "version": "3.7.3"
  }
 },
 "nbformat": 4,
 "nbformat_minor": 2
}
