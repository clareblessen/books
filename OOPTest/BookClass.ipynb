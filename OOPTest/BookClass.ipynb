{
 "cells": [
  {
   "cell_type": "code",
   "execution_count": 35,
   "metadata": {},
   "outputs": [],
   "source": [
    "class Book:\n",
    "    def __init__(self, title, author, pg, lang):\n",
    "        self.title = title\n",
    "        self.author = author\n",
    "        self.authorFirst = author.split(\" \")[0]\n",
    "        self.authorLast = author.split(\" \")[1]\n",
    "        self.pg = pg\n",
    "        self.lang = lang\n",
    "        \n",
    "    def getDescription(self):\n",
    "        return f\"{self.title} is a {self.pg} page {self.lang} book by {self.author}\"\n",
    "    def describe(self):\n",
    "        print(self.getDescription())"
   ]
  },
  {
   "cell_type": "code",
   "execution_count": 36,
   "metadata": {},
   "outputs": [],
   "source": [
    "class Shelf:\n",
    "    def __init__(self, maxSize, owner):\n",
    "        self.maxSize = maxSize\n",
    "        self.num_books = 0\n",
    "        self.books = []\n",
    "        self.owner = owner\n",
    "    \n",
    "    def addBook(self, book):\n",
    "        if len(self.books) < self.maxSize:\n",
    "            self.books.append(book)\n",
    "            self.num_books = len(self.books)\n",
    "        else:\n",
    "            print(\"Sorry, no room on this bookshelf\")\n",
    "    \n",
    "    def describe(self):\n",
    "        print(f\"This is the {self.maxSize} book capacity bookshelf of {self.owner} and has {self.num_books} books. Here they are:\")\n",
    "        for book in self.books:\n",
    "            print(\"  - \", book.getDescription())"
   ]
  },
  {
   "cell_type": "code",
   "execution_count": 37,
   "metadata": {},
   "outputs": [],
   "source": [
    "book_1 = Book(\"Severance\", \"Ling Ma\", 291, \"English\")\n",
    "book_2 = Book(\"Hunger: A Memoir of (My) Body\", \"Roxane Gay\", 306, \"English\")"
   ]
  },
  {
   "cell_type": "code",
   "execution_count": 38,
   "metadata": {},
   "outputs": [
    {
     "name": "stdout",
     "output_type": "stream",
     "text": [
      "Severance is a 291 page English book by Ling Ma\n"
     ]
    }
   ],
   "source": [
    "book_1.describe()"
   ]
  },
  {
   "cell_type": "code",
   "execution_count": 39,
   "metadata": {},
   "outputs": [
    {
     "name": "stdout",
     "output_type": "stream",
     "text": [
      "This is the 5 book capacity bookshelf of Becca and has 2 books. Here they are:\n",
      "  -  Severance is a 291 page English book by Ling Ma\n",
      "  -  Hunger: A Memoir of (My) Body is a 306 page English book by Roxane Gay\n"
     ]
    }
   ],
   "source": [
    "shelf_1 = Shelf(5, 'Becca')\n",
    "shelf_1.addBook(book_1)\n",
    "shelf_1.addBook(book_2)\n",
    "shelf_1.describe()"
   ]
  },
  {
   "cell_type": "code",
   "execution_count": null,
   "metadata": {},
   "outputs": [],
   "source": []
  }
 ],
 "metadata": {
  "kernelspec": {
   "display_name": "Python 3",
   "language": "python",
   "name": "python3"
  },
  "language_info": {
   "codemirror_mode": {
    "name": "ipython",
    "version": 3
   },
   "file_extension": ".py",
   "mimetype": "text/x-python",
   "name": "python",
   "nbconvert_exporter": "python",
   "pygments_lexer": "ipython3",
   "version": "3.6.6"
  }
 },
 "nbformat": 4,
 "nbformat_minor": 2
}
