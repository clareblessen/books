{
 "cells": [
  {
   "cell_type": "code",
   "execution_count": 6,
   "metadata": {},
   "outputs": [],
   "source": [
    "class Book:\n",
    "    def __init__(self, title, author, pg, lang):\n",
    "        self.title = title\n",
    "        self.author = author\n",
    "        self.authorFirst = author.split(\" \")[0]\n",
    "        self.authorLast = author.split(\" \")[1]\n",
    "        self.pg = pg\n",
    "        self.lang = lang\n",
    "        self.description = title + \" is a \" + str(pg) + \" page \" + lang + \" book by \" + author \".\""
   ]
  },
  {
   "cell_type": "code",
   "execution_count": 12,
   "metadata": {},
   "outputs": [],
   "source": [
    "class Shelf:\n",
    "    def __init__(self, maxSize):\n",
    "        self.maxSize = maxSize\n",
    "        num_books = 0"
   ]
  },
  {
   "cell_type": "code",
   "execution_count": 7,
   "metadata": {},
   "outputs": [],
   "source": [
    "book_1 = Book(\"Severance\", \"Ling Ma\", 291, \"English\")\n",
    "book_2 = Book(\"Hunger: A Memoir of (My) Body\", \"Roxane Gay\", 306, \"English\")"
   ]
  },
  {
   "cell_type": "code",
   "execution_count": 9,
   "metadata": {},
   "outputs": [
    {
     "data": {
      "text/plain": [
       "'Severance is a 291 page English book by Ling Ma'"
      ]
     },
     "execution_count": 9,
     "metadata": {},
     "output_type": "execute_result"
    }
   ],
   "source": [
    "book_1.description"
   ]
  },
  {
   "cell_type": "code",
   "execution_count": 13,
   "metadata": {},
   "outputs": [],
   "source": [
    "shelf_1 = Shelf(5)"
   ]
  }
 ],
 "metadata": {
  "kernelspec": {
   "display_name": "Python 3",
   "language": "python",
   "name": "python3"
  },
  "language_info": {
   "codemirror_mode": {
    "name": "ipython",
    "version": 3
   },
   "file_extension": ".py",
   "mimetype": "text/x-python",
   "name": "python",
   "nbconvert_exporter": "python",
   "pygments_lexer": "ipython3",
   "version": "3.6.6"
  }
 },
 "nbformat": 4,
 "nbformat_minor": 2
}
